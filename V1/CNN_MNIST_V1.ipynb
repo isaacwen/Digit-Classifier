{
 "nbformat": 4,
 "nbformat_minor": 0,
 "metadata": {
  "colab": {
   "name": "CNN_MINST_V1.ipynb",
   "provenance": []
  },
  "kernelspec": {
   "name": "python3",
   "display_name": "Python 3"
  },
  "language_info": {
   "name": "python"
  },
  "accelerator": "GPU"
 },
 "cells": [
  {
   "cell_type": "markdown",
   "source": [
    "# Digit Classifier using CNNs"
   ],
   "metadata": {
    "id": "PqIfnA2G1jhX"
   }
  },
  {
   "cell_type": "code",
   "source": [
    "import tensorflow as tf\n",
    "import matplotlib.pyplot as plt\n",
    "import numpy as np"
   ],
   "metadata": {
    "id": "_sfzu1VI1f7V"
   },
   "execution_count": 1,
   "outputs": []
  },
  {
   "cell_type": "markdown",
   "source": [
    "Loading the dataset using TensorFlow API:"
   ],
   "metadata": {
    "id": "vQtpch0r1zDu"
   }
  },
  {
   "cell_type": "code",
   "source": [
    "mnist = tf.keras.datasets.mnist\n",
    "(training_data, training_labels), (validation_data, validation_labels) = mnist.load_data()"
   ],
   "metadata": {
    "id": "sW3rL81g1xxC",
    "outputId": "9aa39cdb-7f40-4afb-ed0b-563435b249fd",
    "colab": {
     "base_uri": "https://localhost:8080/"
    },
    "pycharm": {
     "is_executing": true
    }
   },
   "execution_count": null,
   "outputs": []
  },
  {
   "cell_type": "markdown",
   "source": [
    "Preprocessing data:"
   ],
   "metadata": {
    "id": "V69hz22Q2JJl"
   }
  },
  {
   "cell_type": "code",
   "source": [
    "training_data = training_data / 255\n",
    "validation_data = validation_data / 255"
   ],
   "metadata": {
    "id": "TUSUzxOO1-8h"
   },
   "execution_count": 3,
   "outputs": []
  },
  {
   "cell_type": "markdown",
   "source": [
    "Model:"
   ],
   "metadata": {
    "id": "GKDkK4eL4zrF"
   }
  },
  {
   "cell_type": "code",
   "source": [
    "model = tf.keras.models.Sequential([\n",
    "    tf.keras.layers.Conv2D(32, (3, 3), activation = 'relu', input_shape = (28, 28, 1)),\n",
    "    tf.keras.layers.MaxPooling2D(2),\n",
    "    tf.keras.layers.Conv2D(32, (3, 3), activation = 'relu'),\n",
    "    tf.keras.layers.MaxPooling2D(2),\n",
    "    tf.keras.layers.Flatten(),\n",
    "    tf.keras.layers.Dense(128, activation = 'relu'),\n",
    "    tf.keras.layers.Dropout(0.1),\n",
    "    tf.keras.layers.Dense(10, activation = 'softmax')\n",
    "])"
   ],
   "metadata": {
    "id": "Tzs7Bnxt3X9V"
   },
   "execution_count": 8,
   "outputs": []
  },
  {
   "cell_type": "markdown",
   "source": [
    "Finding optimal learning rate:"
   ],
   "metadata": {
    "collapsed": false
   }
  },
  {
   "cell_type": "code",
   "source": [
    "lr_schedule = tf.keras.callbacks.LearningRateScheduler(\n",
    "    lambda epoch: 1e-3 * 10 ** (epoch / 20)\n",
    ")\n",
    "model.compile(loss = 'sparse_categorical_crossentropy',\n",
    "              optimizer = tf.keras.optimizers.SGD(learning_rate = 1e-3),\n",
    "              metrics = ['accuracy']\n",
    ")\n",
    "history = model.fit(training_data,\n",
    "                    training_labels,\n",
    "                    epochs = 75,\n",
    "                    validation_data = (validation_data, validation_labels),\n",
    "                    callbacks = [lr_schedule]\n",
    ")"
   ],
   "metadata": {
    "id": "F0WOhtm7VrmH",
    "outputId": "b613b166-fe24-44a7-f753-039e2c0ca735",
    "colab": {
     "base_uri": "https://localhost:8080/"
    },
    "pycharm": {
     "is_executing": true
    }
   },
   "execution_count": null,
   "outputs": []
  },
  {
   "cell_type": "code",
   "source": [
    "learning_rates = 1e-3 * (10 ** (np.arange(75) / 20))\n",
    "plt.semilogx(learning_rates, history.history[\"loss\"])\n",
    "plt.axis([1e-3, 1, 0, 0.2])"
   ],
   "metadata": {
    "id": "WticgR7lWYWa",
    "colab": {
     "base_uri": "https://localhost:8080/",
     "height": 290
    },
    "outputId": "1b659d18-da58-47cd-a819-a9d69e018dac",
    "pycharm": {
     "is_executing": true
    }
   },
   "execution_count": null,
   "outputs": []
  },
  {
   "cell_type": "markdown",
   "source": [
    "Using optimal learning rate to train model:"
   ],
   "metadata": {
    "id": "eIbOPjyaWDS6"
   }
  },
  {
   "cell_type": "code",
   "source": [
    "tf.keras.backend.clear_session()\n",
    "model.compile(loss = 'sparse_categorical_crossentropy',\n",
    "              optimizer = tf.keras.optimizers.SGD(learning_rate = 0.15),\n",
    "              metrics = ['accuracy']\n",
    ")\n",
    "history = model.fit(training_data,\n",
    "                    training_labels,\n",
    "                    epochs = 150,\n",
    "                    validation_data = (validation_data, validation_labels)\n",
    ")"
   ],
   "metadata": {
    "id": "9NLFew3-5pcI",
    "colab": {
     "base_uri": "https://localhost:8080/"
    },
    "outputId": "acbcaeb8-1b01-4ffc-cb21-20221d5926e3",
    "pycharm": {
     "is_executing": true
    }
   },
   "execution_count": null,
   "outputs": []
  },
  {
   "cell_type": "code",
   "source": [
    "train_acc = history.history['accuracy']\n",
    "train_loss = history.history['loss']\n",
    "validation_acc = history.history['val_accuracy']\n",
    "validation_loss = history.history['val_loss']\n",
    "\n",
    "epochs = range(len(train_acc))\n",
    "\n",
    "plt.plot(epochs, train_acc)\n",
    "plt.plot(epochs, validation_acc)\n",
    "plt.title(\"Training and Validation Accuracy\")\n",
    "plt.figure()\n",
    "\n",
    "plt.plot(epochs, train_loss)\n",
    "plt.plot(epochs, validation_loss)\n",
    "plt.title(\"Training and Validation Loss\")"
   ],
   "metadata": {
    "id": "cMgi1MnJ5qis",
    "colab": {
     "base_uri": "https://localhost:8080/",
     "height": 562
    },
    "outputId": "0322d206-32f4-4bfd-e155-2c5327aa1eb7",
    "pycharm": {
     "is_executing": true
    }
   },
   "execution_count": null,
   "outputs": []
  },
  {
   "cell_type": "code",
   "source": [
    "model.save(\"CNN_MNIST_V1.h5\")"
   ],
   "metadata": {
    "id": "2CGJcikp8IWK"
   },
   "execution_count": 11,
   "outputs": []
  },
  {
   "cell_type": "code",
   "source": [
    ""
   ],
   "metadata": {
    "id": "yb60Te9AW8hq"
   },
   "execution_count": null,
   "outputs": []
  }
 ]
}