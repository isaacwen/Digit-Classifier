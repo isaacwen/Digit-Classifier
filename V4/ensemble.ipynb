{
 "cells": [
  {
   "cell_type": "markdown",
   "metadata": {
    "collapsed": true,
    "pycharm": {
     "name": "#%% md\n"
    }
   },
   "source": [
    "# Ensembling models\n",
    "Importing data"
   ],
   "execution_count": 1
  },
  {
   "cell_type": "code",
   "execution_count": 28,
   "outputs": [],
   "source": [
    "import tensorflow as tf\n",
    "mnist = tf.keras.datasets.mnist\n",
    "_, (validation_data, validation_labels) = mnist.load_data()\n",
    "validation_data = validation_data / 255\n",
    "validation_data = validation_data.reshape(-1, 28, 28, 1)"
   ],
   "metadata": {
    "collapsed": false,
    "pycharm": {
     "name": "#%%\n"
    }
   }
  },
  {
   "cell_type": "markdown",
   "source": [
    "Importing trained models"
   ],
   "metadata": {
    "collapsed": false
   }
  },
  {
   "cell_type": "code",
   "execution_count": 99,
   "outputs": [],
   "source": [
    "model_V4_3 = tf.keras.models.load_model(\"CNN_MNIST_V4_3.h5\")\n",
    "model_V4_5= tf.keras.models.load_model(\"CNN_MNIST_V4_5.h5\")\n",
    "model_V4_7 = tf.keras.models.load_model(\"CNN_MNIST_V4_7.h5\")"
   ],
   "metadata": {
    "collapsed": false,
    "pycharm": {
     "name": "#%%\n"
    }
   }
  },
  {
   "cell_type": "code",
   "execution_count": 100,
   "outputs": [
    {
     "name": "stdout",
     "output_type": "stream",
     "text": [
      "Model V4_3 Accuracy\n",
      "313/313 [==============================] - 2s 5ms/step - loss: 0.0143 - accuracy: 0.9962\n",
      "Model V4_5 Accuracy\n",
      "313/313 [==============================] - 1s 4ms/step - loss: 0.0148 - accuracy: 0.9966\n",
      "Model V4_7 Accuracy\n",
      "313/313 [==============================] - 1s 4ms/step - loss: 0.0138 - accuracy: 0.9965\n"
     ]
    },
    {
     "data": {
      "text/plain": "[0.013782843016088009, 0.9965000152587891]"
     },
     "execution_count": 100,
     "metadata": {},
     "output_type": "execute_result"
    }
   ],
   "source": [
    "print(\"Model V4_3 Accuracy\")\n",
    "model_V4_3.evaluate(validation_data, validation_labels)\n",
    "print(\"Model V4_5 Accuracy\")\n",
    "model_V4_5.evaluate(validation_data, validation_labels)\n",
    "print(\"Model V4_7 Accuracy\")\n",
    "model_V4_7.evaluate(validation_data, validation_labels)"
   ],
   "metadata": {
    "collapsed": false,
    "pycharm": {
     "name": "#%%\n"
    }
   }
  },
  {
   "cell_type": "markdown",
   "source": [
    "Generating prediction tables for all models"
   ],
   "metadata": {
    "collapsed": false
   }
  },
  {
   "cell_type": "code",
   "execution_count": 101,
   "outputs": [],
   "source": [
    "model_V4_3_predict = model_V4_3.predict(validation_data)\n",
    "model_V4_5_predict = model_V4_5.predict(validation_data)\n",
    "model_V4_7_predict = model_V4_7.predict(validation_data)"
   ],
   "metadata": {
    "collapsed": false,
    "pycharm": {
     "name": "#%%\n"
    }
   }
  },
  {
   "cell_type": "markdown",
   "source": [
    "Creating ensemble and computing ensemble accuracy. Note the methodology used to compute the accuracy is to take the majority agreement, but if there is a three-way-tie then take the prediction for which all models are collectively the most confident in by summing confidence."
   ],
   "metadata": {
    "collapsed": false
   }
  },
  {
   "cell_type": "code",
   "execution_count": 102,
   "outputs": [
    {
     "name": "stdout",
     "output_type": "stream",
     "text": [
      "0.9973\n"
     ]
    }
   ],
   "source": [
    "import numpy as np\n",
    "num_examples = len(validation_data)\n",
    "count = 0\n",
    "incorrect = []\n",
    "for i in range(num_examples):\n",
    "    predict_3, predict_5, predict_7 = np.argmax(model_V4_3_predict[i]), np.argmax(model_V4_5_predict[i]), np.argmax(model_V4_7_predict[i])\n",
    "    ensemble_predict = 0\n",
    "    if predict_3 == predict_5 or predict_3 == predict_7:\n",
    "        ensemble_predict = predict_3\n",
    "    elif predict_5 == predict_7:\n",
    "        ensemble_predict = predict_5\n",
    "    else:\n",
    "        ensemble_predict = np.argmax(model_V4_3_predict[i] + model_V4_5_predict[i] + model_V4_7_predict[i])\n",
    "\n",
    "    if ensemble_predict == validation_labels[i]:\n",
    "        count += 1\n",
    "    else:\n",
    "        incorrect.append(i)\n",
    "print(count / num_examples)"
   ],
   "metadata": {
    "collapsed": false,
    "pycharm": {
     "name": "#%%\n"
    }
   }
  },
  {
   "cell_type": "markdown",
   "source": [
    "Printing examples that ensemble incorrectly predicted"
   ],
   "metadata": {
    "collapsed": false
   }
  },
  {
   "cell_type": "code",
   "execution_count": 103,
   "outputs": [
    {
     "name": "stdout",
     "output_type": "stream",
     "text": [
      "[193, 247, 445, 447, 582, 659, 1112, 1393, 1737, 1901, 2040, 2130, 2462, 2771, 3073, 3422, 4201, 4443, 4699, 4740, 4761, 6569, 6576, 6625, 8279, 8527, 9729]\n"
     ]
    }
   ],
   "source": [
    "print(incorrect)"
   ],
   "metadata": {
    "collapsed": false,
    "pycharm": {
     "name": "#%%\n"
    }
   }
  },
  {
   "cell_type": "code",
   "execution_count": 104,
   "outputs": [
    {
     "name": "stdout",
     "output_type": "stream",
     "text": [
      "Example = 193,\tactual = 9, model_4_3 = 8, model_4_5 = 8, model_4_7 = 8\n",
      "Example = 247,\tactual = 4, model_4_3 = 4, model_4_5 = 2, model_4_7 = 2\n",
      "Example = 445,\tactual = 6, model_4_3 = 6, model_4_5 = 0, model_4_7 = 0\n",
      "Example = 447,\tactual = 4, model_4_3 = 9, model_4_5 = 9, model_4_7 = 4\n",
      "Example = 582,\tactual = 8, model_4_3 = 8, model_4_5 = 2, model_4_7 = 2\n",
      "Example = 659,\tactual = 2, model_4_3 = 2, model_4_5 = 7, model_4_7 = 7\n",
      "Example = 1112,\tactual = 4, model_4_3 = 6, model_4_5 = 6, model_4_7 = 6\n",
      "Example = 1393,\tactual = 5, model_4_3 = 7, model_4_5 = 7, model_4_7 = 7\n",
      "Example = 1737,\tactual = 5, model_4_3 = 5, model_4_5 = 3, model_4_7 = 3\n",
      "Example = 1901,\tactual = 9, model_4_3 = 4, model_4_5 = 4, model_4_7 = 4\n",
      "Example = 2040,\tactual = 5, model_4_3 = 6, model_4_5 = 6, model_4_7 = 6\n",
      "Example = 2130,\tactual = 4, model_4_3 = 9, model_4_5 = 9, model_4_7 = 9\n",
      "Example = 2462,\tactual = 2, model_4_3 = 2, model_4_5 = 0, model_4_7 = 0\n",
      "Example = 2771,\tactual = 4, model_4_3 = 9, model_4_5 = 9, model_4_7 = 4\n",
      "Example = 3073,\tactual = 1, model_4_3 = 7, model_4_5 = 7, model_4_7 = 1\n",
      "Example = 3422,\tactual = 6, model_4_3 = 0, model_4_5 = 0, model_4_7 = 0\n",
      "Example = 4201,\tactual = 1, model_4_3 = 7, model_4_5 = 7, model_4_7 = 1\n",
      "Example = 4443,\tactual = 3, model_4_3 = 2, model_4_5 = 3, model_4_7 = 1\n",
      "Example = 4699,\tactual = 6, model_4_3 = 1, model_4_5 = 1, model_4_7 = 6\n",
      "Example = 4740,\tactual = 3, model_4_3 = 5, model_4_5 = 5, model_4_7 = 5\n",
      "Example = 4761,\tactual = 9, model_4_3 = 4, model_4_5 = 4, model_4_7 = 4\n",
      "Example = 6569,\tactual = 3, model_4_3 = 7, model_4_5 = 3, model_4_7 = 7\n",
      "Example = 6576,\tactual = 7, model_4_3 = 1, model_4_5 = 1, model_4_7 = 1\n",
      "Example = 6625,\tactual = 8, model_4_3 = 2, model_4_5 = 1, model_4_7 = 2\n",
      "Example = 8279,\tactual = 8, model_4_3 = 8, model_4_5 = 4, model_4_7 = 4\n",
      "Example = 8527,\tactual = 4, model_4_3 = 9, model_4_5 = 9, model_4_7 = 4\n",
      "Example = 9729,\tactual = 5, model_4_3 = 6, model_4_5 = 6, model_4_7 = 6\n"
     ]
    }
   ],
   "source": [
    "for i in incorrect:\n",
    "    print(f\"Example = {i},\\tactual = {validation_labels[i]}, \" +\n",
    "          f\"model_4_3 = {np.argmax(model_V4_3.predict(validation_data[i][np.newaxis]))}, \" +\n",
    "          f\"model_4_5 = {np.argmax(model_V4_5.predict(validation_data[i][np.newaxis]))}, \" +\n",
    "          f\"model_4_7 = {np.argmax(model_V4_7.predict(validation_data[i][np.newaxis]))}\")"
   ],
   "metadata": {
    "collapsed": false,
    "pycharm": {
     "name": "#%%\n"
    }
   }
  },
  {
   "cell_type": "code",
   "execution_count": null,
   "outputs": [],
   "source": [],
   "metadata": {
    "collapsed": false,
    "pycharm": {
     "name": "#%%\n"
    }
   }
  }
 ],
 "metadata": {
  "kernelspec": {
   "display_name": "Python 3",
   "language": "python",
   "name": "python3"
  },
  "language_info": {
   "codemirror_mode": {
    "name": "ipython",
    "version": 2
   },
   "file_extension": ".py",
   "mimetype": "text/x-python",
   "name": "python",
   "nbconvert_exporter": "python",
   "pygments_lexer": "ipython2",
   "version": "2.7.6"
  }
 },
 "nbformat": 4,
 "nbformat_minor": 0
}