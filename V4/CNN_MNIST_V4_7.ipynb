{
 "nbformat": 4,
 "nbformat_minor": 0,
 "metadata": {
  "colab": {
   "name": "CNN_MINST_V4_7.ipynb",
   "provenance": []
  },
  "kernelspec": {
   "name": "python3",
   "display_name": "Python 3"
  },
  "language_info": {
   "name": "python"
  },
  "accelerator": "GPU"
 },
 "cells": [
  {
   "cell_type": "markdown",
   "source": [
    "# Digit Classifier using CNNs"
   ],
   "metadata": {
    "id": "PqIfnA2G1jhX"
   }
  },
  {
   "cell_type": "code",
   "source": [
    "import tensorflow as tf\n",
    "import matplotlib.pyplot as plt\n",
    "import numpy as np\n",
    "from tensorflow.keras.preprocessing.image import ImageDataGenerator"
   ],
   "metadata": {
    "id": "_sfzu1VI1f7V"
   },
   "execution_count": 1,
   "outputs": []
  },
  {
   "cell_type": "markdown",
   "source": [
    "Loading the dataset using TensorFlow API:"
   ],
   "metadata": {
    "id": "vQtpch0r1zDu"
   }
  },
  {
   "cell_type": "code",
   "source": [
    "mnist = tf.keras.datasets.mnist\n",
    "(training_data, training_labels), (validation_data, validation_labels) = mnist.load_data()"
   ],
   "metadata": {
    "id": "sW3rL81g1xxC",
    "colab": {
     "base_uri": "https://localhost:8080/"
    },
    "outputId": "a5258744-838c-4899-f435-a8e0df29caf6",
    "pycharm": {
     "is_executing": true
    }
   },
   "execution_count": null,
   "outputs": []
  },
  {
   "cell_type": "markdown",
   "source": [
    "Preprocessing data:"
   ],
   "metadata": {
    "id": "V69hz22Q2JJl"
   }
  },
  {
   "cell_type": "code",
   "source": [
    "training_data = training_data.reshape(-1, 28, 28, 1)\n",
    "validation_data = validation_data.reshape(-1, 28, 28, 1)\n",
    "\n",
    "training_datagen = ImageDataGenerator(\n",
    "    rescale = 1 / 255,\n",
    "    rotation_range = 30,\n",
    "    width_shift_range = 0.2,\n",
    "    height_shift_range = 0.2,\n",
    "    zoom_range = 0.1,\n",
    "    shear_range = 0.1,\n",
    "    fill_mode = 'constant'\n",
    ")\n",
    "\n",
    "validation_datagen = ImageDataGenerator(\n",
    "    rescale = 1 / 255\n",
    ")\n",
    "\n",
    "training_generator = training_datagen.flow(\n",
    "    training_data,\n",
    "    training_labels\n",
    ")\n",
    "\n",
    "validation_generator = validation_datagen.flow(\n",
    "    validation_data,\n",
    "    validation_labels,\n",
    "    shuffle = False\n",
    ")"
   ],
   "metadata": {
    "id": "TUSUzxOO1-8h"
   },
   "execution_count": 3,
   "outputs": []
  },
  {
   "cell_type": "markdown",
   "source": [
    "Model:"
   ],
   "metadata": {
    "id": "GKDkK4eL4zrF"
   }
  },
  {
   "cell_type": "code",
   "source": [
    "model = tf.keras.models.Sequential([\n",
    "    tf.keras.layers.Conv2D(64, (3, 3), activation = 'relu', input_shape = (28, 28, 1)),\n",
    "    tf.keras.layers.BatchNormalization(),\n",
    "    tf.keras.layers.Conv2D(96, (5, 5), activation = 'relu'),\n",
    "    tf.keras.layers.BatchNormalization(),\n",
    "    tf.keras.layers.Conv2D(128, (5, 5), activation = 'relu'),\n",
    "    tf.keras.layers.BatchNormalization(),\n",
    "    tf.keras.layers.Conv2D(160, (7, 7), activation = 'relu'),\n",
    "    tf.keras.layers.BatchNormalization(),\n",
    "    tf.keras.layers.Conv2D(196, (7, 7), activation = 'relu'),\n",
    "    tf.keras.layers.BatchNormalization(),\n",
    "    tf.keras.layers.Flatten(),\n",
    "    tf.keras.layers.Dense(128, activation = 'relu'),\n",
    "    tf.keras.layers.Dropout(0.2),\n",
    "    tf.keras.layers.Dense(10, activation = 'softmax')\n",
    "])"
   ],
   "metadata": {
    "id": "Tzs7Bnxt3X9V"
   },
   "execution_count": 22,
   "outputs": []
  },
  {
   "cell_type": "code",
   "source": [
    "model.summary()"
   ],
   "metadata": {
    "colab": {
     "base_uri": "https://localhost:8080/"
    },
    "id": "uLci2Us6vlFZ",
    "outputId": "bb454cc9-40a1-4d27-8751-b85aad1c1dfe",
    "pycharm": {
     "is_executing": true
    }
   },
   "execution_count": null,
   "outputs": []
  },
  {
   "cell_type": "code",
   "source": [
    "lr_schedule = tf.keras.callbacks.LearningRateScheduler(\n",
    "    lambda epoch: 0.001 * 0.95 ** (epoch / 8)\n",
    ")\n",
    "model.compile(loss = 'sparse_categorical_crossentropy',\n",
    "              optimizer = tf.keras.optimizers.SGD(learning_rate = 0.001),\n",
    "              metrics = ['accuracy']\n",
    ")\n",
    "history = model.fit(training_generator,\n",
    "                    epochs = 200,\n",
    "                    validation_data = validation_generator,\n",
    "                    callbacks = [lr_schedule]\n",
    ")"
   ],
   "metadata": {
    "colab": {
     "base_uri": "https://localhost:8080/"
    },
    "id": "9NLFew3-5pcI",
    "outputId": "421eb78d-12bc-42dc-e5b3-918871f65b4a",
    "pycharm": {
     "is_executing": true
    }
   },
   "execution_count": null,
   "outputs": []
  },
  {
   "cell_type": "code",
   "source": [
    "train_acc = history.history['accuracy']\n",
    "train_loss = history.history['loss']\n",
    "validation_acc = history.history['val_accuracy']\n",
    "validation_loss = history.history['val_loss']\n",
    "\n",
    "num_epochs = len(train_acc)\n",
    "epochs = range(num_epochs)\n",
    "\n",
    "plt.plot(epochs, train_acc)\n",
    "plt.plot(epochs, validation_acc)\n",
    "plt.title(\"Training and Validation Accuracy\")\n",
    "plt.axis([0, num_epochs, 0.95, 1])\n",
    "plt.figure()\n",
    "\n",
    "plt.plot(epochs, train_loss)\n",
    "plt.plot(epochs, validation_loss)\n",
    "plt.title(\"Training and Validation Loss\")\n",
    "plt.axis([0, num_epochs, 0, 0.15])"
   ],
   "metadata": {
    "colab": {
     "base_uri": "https://localhost:8080/",
     "height": 235
    },
    "id": "cMgi1MnJ5qis",
    "outputId": "61acb0eb-84a1-45f5-c9bc-a5ff83f8f248",
    "pycharm": {
     "is_executing": true
    }
   },
   "execution_count": null,
   "outputs": []
  },
  {
   "cell_type": "code",
   "source": [
    "model.save(\"CNN_MNIST_V4_7.h5\")"
   ],
   "metadata": {
    "id": "2CGJcikp8IWK"
   },
   "execution_count": null,
   "outputs": []
  },
  {
   "cell_type": "markdown",
   "source": [
    "Error Analysis"
   ],
   "metadata": {
    "id": "Jz6Dzu1MX8z8"
   }
  },
  {
   "cell_type": "code",
   "source": [
    "predictions = model.predict(validation_generator)\n",
    "predictions = np.argmax(predictions, axis = 1)\n",
    "len(predictions)\n",
    "incorrect = []\n",
    "for i in range(10000):\n",
    "  if predictions[i] != validation_labels[i]:\n",
    "    incorrect.append(i)"
   ],
   "metadata": {
    "id": "GJcEuRvGX-1q"
   },
   "execution_count": null,
   "outputs": []
  },
  {
   "cell_type": "code",
   "source": [
    "i = incorrect[0]\n",
    "print(f\"Expected: {validation_labels[i]}, Predicted: {predictions[i]}\")\n",
    "plt.imshow(validation_data[i].reshape(28, 28), cmap = 'gray')\n",
    "plt.figure()"
   ],
   "metadata": {
    "id": "rII6aqM2YQ_r"
   },
   "execution_count": null,
   "outputs": []
  },
  {
   "cell_type": "code",
   "source": [
    ""
   ],
   "metadata": {
    "id": "ODiZHO_pZV3D"
   },
   "execution_count": null,
   "outputs": []
  }
 ]
}