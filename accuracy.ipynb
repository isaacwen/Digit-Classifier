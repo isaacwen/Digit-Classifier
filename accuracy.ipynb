{
 "cells": [
  {
   "cell_type": "markdown",
   "metadata": {
    "collapsed": true,
    "pycharm": {
     "name": "#%% md\n"
    }
   },
   "source": [
    "# Listing accuracy of all models"
   ]
  },
  {
   "cell_type": "code",
   "execution_count": 1,
   "outputs": [],
   "source": [
    "import tensorflow as tf\n",
    "mnist = tf.keras.datasets.mnist\n",
    "_, (validation_data, validation_labels) = mnist.load_data()\n",
    "validation_data = validation_data / 255\n",
    "validation_data = validation_data.reshape(-1, 28, 28, 1)"
   ],
   "metadata": {
    "collapsed": false,
    "pycharm": {
     "name": "#%%\n"
    }
   }
  },
  {
   "cell_type": "code",
   "execution_count": 36,
   "outputs": [],
   "source": [
    "from tensorflow.keras.models import load_model\n",
    "model_V1 = load_model(\"CNN_MNIST_V1.h5\")\n",
    "model_V2 = load_model(\"CNN_MNIST_V2.h5\")\n",
    "model_V3 = load_model(\"CNN_MNIST_V3.h5\")\n",
    "model_V4_3 = load_model(\"CNN_MNIST_V4_3.h5\")\n",
    "model_V4_5 = load_model(\"CNN_MNIST_V4_5.h5\")\n",
    "model_V4_7 = load_model(\"CNN_MNIST_V4_7.h5\")"
   ],
   "metadata": {
    "collapsed": false,
    "pycharm": {
     "name": "#%%\n"
    }
   }
  },
  {
   "cell_type": "code",
   "execution_count": 37,
   "outputs": [
    {
     "name": "stdout",
     "output_type": "stream",
     "text": [
      "Model V1 Accuracy\n",
      "313/313 [==============================] - 1s 3ms/step - loss: 0.0597 - accuracy: 0.9927\n",
      "Model V2 Accuracy\n",
      "313/313 [==============================] - 1s 2ms/step - loss: 0.0160 - accuracy: 0.9948\n",
      "Model V3 Accuracy\n",
      "313/313 [==============================] - 1s 4ms/step - loss: 0.0135 - accuracy: 0.9962\n",
      "Model V4_3 Accuracy\n",
      "313/313 [==============================] - 1s 4ms/step - loss: 0.0143 - accuracy: 0.9962\n",
      "Model V4_5 Accuracy\n",
      "313/313 [==============================] - 1s 4ms/step - loss: 0.0148 - accuracy: 0.9966\n",
      "Model V4_7 Accuracy\n",
      "313/313 [==============================] - 1s 4ms/step - loss: 0.0138 - accuracy: 0.9965\n"
     ]
    },
    {
     "data": {
      "text/plain": "[0.013781805522739887, 0.9965000152587891]"
     },
     "execution_count": 37,
     "metadata": {},
     "output_type": "execute_result"
    }
   ],
   "source": [
    "print(\"Model V1 Accuracy\")\n",
    "model_V1.evaluate(validation_data, validation_labels)\n",
    "print(\"Model V2 Accuracy\")\n",
    "model_V2.evaluate(validation_data, validation_labels)\n",
    "print(\"Model V3 Accuracy\")\n",
    "model_V3.evaluate(validation_data, validation_labels)\n",
    "print(\"Model V4_3 Accuracy\")\n",
    "model_V4_3.evaluate(validation_data, validation_labels)\n",
    "print(\"Model V4_5 Accuracy\")\n",
    "model_V4_5.evaluate(validation_data, validation_labels)\n",
    "print(\"Model V4_7 Accuracy\")\n",
    "model_V4_7.evaluate(validation_data, validation_labels)"
   ],
   "metadata": {
    "collapsed": false,
    "pycharm": {
     "name": "#%%\n"
    }
   }
  },
  {
   "cell_type": "code",
   "execution_count": null,
   "outputs": [],
   "source": [],
   "metadata": {
    "collapsed": false,
    "pycharm": {
     "name": "#%%\n"
    }
   }
  }
 ],
 "metadata": {
  "kernelspec": {
   "display_name": "Python 3",
   "language": "python",
   "name": "python3"
  },
  "language_info": {
   "codemirror_mode": {
    "name": "ipython",
    "version": 2
   },
   "file_extension": ".py",
   "mimetype": "text/x-python",
   "name": "python",
   "nbconvert_exporter": "python",
   "pygments_lexer": "ipython2",
   "version": "2.7.6"
  }
 },
 "nbformat": 4,
 "nbformat_minor": 0
}